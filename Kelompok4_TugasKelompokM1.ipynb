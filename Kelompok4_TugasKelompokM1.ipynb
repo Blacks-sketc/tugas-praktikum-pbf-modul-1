{
  "nbformat": 4,
  "nbformat_minor": 0,
  "metadata": {
    "colab": {
      "provenance": []
    },
    "kernelspec": {
      "name": "python3",
      "display_name": "Python 3"
    },
    "language_info": {
      "name": "python"
    }
  },
  "cells": [
    {
      "cell_type": "markdown",
      "source": [
        "**TUGAS KELOMPOK 4**\n",
        "\n",
        "*  AHMAD RIZQI - 122450138\n",
        "*  SITI NUR AARIFAH - 122450006\n",
        "*  PARDI OCTAVIANDO - 122450132\n",
        "*  ELISABETH CLAUDIA SIMANJUNTAK-122450123\n",
        "*  KARTINI LOVIAN SIMBOLON-122450003\n",
        "\n",
        "\n",
        "\n"
      ],
      "metadata": {
        "id": "Ty2GRMQ6-Ykq"
      }
    },
    {
      "cell_type": "markdown",
      "source": [
        "**1. Buatlah fungsi komposisi dengan nilai F(x) = 4^x, g(x)=x^x dan h(x)=3+x dengan pemrograman prosedural tiga fungsi dan pemrograman fungsional dengan lambda.**"
      ],
      "metadata": {
        "id": "-4VLI4bq7u49"
      }
    },
    {
      "cell_type": "code",
      "source": [
        "def f(x):\n",
        "    return 4**x\n",
        "def g(x):\n",
        "    return x**x\n",
        "def h(x):\n",
        "    return 3+x\n",
        "\n",
        "print(\"komposisi fungsi dari 3 fungsi : \", h(g(f(4))))"
      ],
      "metadata": {
        "colab": {
          "base_uri": "https://localhost:8080/"
        },
        "id": "JhlcUX6J56RO",
        "outputId": "0aecc3ca-bfa3-4767-99dc-6106c8ea4f96"
      },
      "execution_count": 12,
      "outputs": [
        {
          "output_type": "stream",
          "name": "stdout",
          "text": [
            "komposisi fungsi dari 3 fungsi :  32317006071311007300714876688669951960444102669715484032130345427524655138867890893197201411522913463688717960921898019494119559150490921095088152386448283120630877367300996091750197750389652106796057638384067568276792218642619756161838094338476170470581645852036305042887575891541065808607552399123930385521914333389668342420684974786564569494856176035326322058077805659331026192708460314150258592864177116725943603718461857357598351152301645904403697613233287231227125684710820209725157101726931323469678542580656697935045997268352998638215525166389437335543602135433229604645318478604952148193555853611059596230659\n"
          ]
        }
      ]
    },
    {
      "cell_type": "code",
      "source": [
        "fungsi_komposisi_fungsional = lambda x: h(g(f(x)))\n",
        "\n",
        "hasil = fungsi_komposisi_fungsional(2)\n",
        "print(\"komposisi lambda \",\"adalah\", hasil)"
      ],
      "metadata": {
        "colab": {
          "base_uri": "https://localhost:8080/"
        },
        "id": "0NP4XYYw5-he",
        "outputId": "7d341e13-4518-42ac-ccea-6e5be4501e55"
      },
      "execution_count": 11,
      "outputs": [
        {
          "output_type": "stream",
          "name": "stdout",
          "text": [
            "komposisi lambda  adalah 18446744073709551619\n"
          ]
        }
      ]
    },
    {
      "cell_type": "markdown",
      "source": [
        "**2. Buatlah pemrograman berbasis objek pada soal no.1**"
      ],
      "metadata": {
        "id": "e0TK9zcX8IS6"
      }
    },
    {
      "cell_type": "code",
      "source": [
        "class nilai:\n",
        "    def __init__(self, nilai):\n",
        "        self.nilai = nilai\n",
        "    def __rshift__(self, other):\n",
        "        return other(self.nilai)\n",
        "def f(x):\n",
        "    return nilai(4**x)\n",
        "def g(x):\n",
        "    return nilai(x ** x)\n",
        "def h(x):\n",
        "    return nilai(3 + x)\n",
        "\n",
        "result = nilai(4) >> f >> g >> h\n",
        "result.nilai"
      ],
      "metadata": {
        "colab": {
          "base_uri": "https://localhost:8080/"
        },
        "id": "lsKAJkJf5_zI",
        "outputId": "d2e3780b-0577-4509-b83f-79f4a2eaa03e"
      },
      "execution_count": 15,
      "outputs": [
        {
          "output_type": "execute_result",
          "data": {
            "text/plain": [
              "32317006071311007300714876688669951960444102669715484032130345427524655138867890893197201411522913463688717960921898019494119559150490921095088152386448283120630877367300996091750197750389652106796057638384067568276792218642619756161838094338476170470581645852036305042887575891541065808607552399123930385521914333389668342420684974786564569494856176035326322058077805659331026192708460314150258592864177116725943603718461857357598351152301645904403697613233287231227125684710820209725157101726931323469678542580656697935045997268352998638215525166389437335543602135433229604645318478604952148193555853611059596230659"
            ]
          },
          "metadata": {},
          "execution_count": 15
        }
      ]
    },
    {
      "cell_type": "markdown",
      "source": [
        "**3. Berikan Analisis Komparasi soal 1 dan 2**"
      ],
      "metadata": {
        "id": "URIGpe-8_L2D"
      }
    },
    {
      "cell_type": "markdown",
      "source": [
        "analisis komparasi adalah proses evaluasi dan perbandingan antara dua hal, jadi analisis komprasi no 1 dan 2 adalah\n",
        "Prosedural Program:\n",
        "mudah dipahami untuk bahasa program sederhana.\n",
        "Berisikan fungsi-fungsi terpisah.\n",
        "\n",
        "Object-Oriented Programming (OOP):\n",
        "Menggunakan konsep objek, yang memungkinkan enkapsulasi dan modularitas\n",
        "Lebih baik untuk situasi yang lebih kompleks bahkan hal yg lebih banyak/besar"
      ],
      "metadata": {
        "id": "ykZrw2SA_Tyo"
      }
    },
    {
      "cell_type": "markdown",
      "source": [
        "**4. Buatlah satu penyelesaian Luas Segitiga dengan menggunakan Pemrograman berorientasi Objek dan Pemrograman berbasis Fungsi. uji dengan membandingkan mana yang tercepat komputasinya.**"
      ],
      "metadata": {
        "id": "Goyk_Z298LRC"
      }
    },
    {
      "cell_type": "code",
      "source": [
        "import time\n",
        "st = time.time()\n",
        "\n",
        "def luas_segitiga(panjang,lebar,tinggi):\n",
        "    return (panjang*lebar*tinggi)/2\n",
        "luas_segitiga(5,6,7)\n",
        "et = time.time()\n",
        "elapsed_time = et - st\n",
        "print('waktu:', elapsed_time, 'detik')"
      ],
      "metadata": {
        "colab": {
          "base_uri": "https://localhost:8080/"
        },
        "id": "07Wi2kId6DVz",
        "outputId": "095801e3-ad0d-42d3-aa13-ab46c952adab"
      },
      "execution_count": 17,
      "outputs": [
        {
          "output_type": "stream",
          "name": "stdout",
          "text": [
            "waktu: 0.00020742416381835938 detik\n"
          ]
        }
      ]
    },
    {
      "cell_type": "code",
      "execution_count": 18,
      "metadata": {
        "colab": {
          "base_uri": "https://localhost:8080/"
        },
        "id": "twisVxuO4kGF",
        "outputId": "08178efa-09c4-4fe5-a2d0-b3a4b8c6f0ad"
      },
      "outputs": [
        {
          "output_type": "stream",
          "name": "stdout",
          "text": [
            "Execution time: 0.00019621849060058594 seconds\n"
          ]
        }
      ],
      "source": [
        "import time\n",
        "st = time.time()\n",
        "sg = lambda a,b,c: (a*b*c)/2\n",
        "sg(5,6,7)\n",
        "et = time.time()\n",
        "elapsed_time = et - st\n",
        "print('Execution time:', elapsed_time, 'seconds')"
      ]
    },
    {
      "cell_type": "markdown",
      "source": [
        "**Special Soal 5 : Diberikan Algoritma Metode Bisection berikut :\n",
        "\n",
        "*   start\n",
        "*   Define function f(x)\n",
        "*   Choose initial guesses x0 and x1 such that f(x0)f(x1) < 0\n",
        "*   Choose pre-specified tolerable error e.\n",
        "*   Calculate new approximated root as x2 = (x0 + x1)/2\n",
        "*   Calculate f(x0)f(x2) a.if f(x0)f(x2) < 0 then x0 = x0 and x1 = x2 b.if f(x0f(x2) > 0 then x0 = x2 and x1 = x1 c.if f(x0)f(x2) = 0 then goto (8)\n",
        "*   if |f(x2)| > e then goto (5) otherwise goto (8)\n",
        "*   Display x2 as root\n",
        "*   Stop\n",
        "\n",
        "Buatlah prosedural programming dari persoalan di atas dan ubahlah dengan functional programming. lakukan dengan batas toleransi . dengan fungsi yang diberikan sebagai berikut: dan nilai a dan b adalah di antara 0 dan 1 (nilai antara tidak boleh 0 dan 1)**"
      ],
      "metadata": {
        "id": "OcuooHHi9Ba6"
      }
    },
    {
      "cell_type": "code",
      "source": [
        "def f(x):\n",
        "    return x-2**-x\n",
        "def bisection(x0,x1,e):\n",
        "    step = 1\n",
        "    print('\\n\\n*** ALGORITMA METODE BISECTION ***')\n",
        "    condition = True\n",
        "    while condition:\n",
        "        x2 = (x0 + x1)/2\n",
        "        print('Iteration-%d, x2 = %0.6f and f(x2) = %0.6f' % (step, x2, f(x2)))\n",
        "        if f(x0) * f(x2) < 0:\n",
        "            x1 = x2\n",
        "        else:\n",
        "            x0 = x2\n",
        "        step = step + 1\n",
        "        condition = abs(f(x2)) > e\n",
        "    print('\\nRequired Root is : %0.8f' % x2)\n",
        "\n",
        "x0 = 0.01\n",
        "x1 = 1\n",
        "e = 1e-5\n",
        "\n",
        "if f(x0) * f(x1) > 0.0:\n",
        "    print('Given guess values do not bracket the root.')\n",
        "    print('Try Again with different guess values.')\n",
        "else:\n",
        "    bisection(x0,x1,e)"
      ],
      "metadata": {
        "colab": {
          "base_uri": "https://localhost:8080/"
        },
        "id": "q1PRLy229FrO",
        "outputId": "dddae4e9-4d9a-43aa-bed8-32586c558e71"
      },
      "execution_count": 21,
      "outputs": [
        {
          "output_type": "stream",
          "name": "stdout",
          "text": [
            "\n",
            "\n",
            "*** ALGORITMA METODE BISECTION ***\n",
            "Iteration-1, x2 = 0.505000 and f(x2) = -0.199660\n",
            "Iteration-2, x2 = 0.752500 and f(x2) = 0.158926\n",
            "Iteration-3, x2 = 0.628750 and f(x2) = -0.017987\n",
            "Iteration-4, x2 = 0.690625 and f(x2) = 0.071040\n",
            "Iteration-5, x2 = 0.659687 and f(x2) = 0.026672\n",
            "Iteration-6, x2 = 0.644219 and f(x2) = 0.004380\n",
            "Iteration-7, x2 = 0.636484 and f(x2) = -0.006794\n",
            "Iteration-8, x2 = 0.640352 and f(x2) = -0.001205\n",
            "Iteration-9, x2 = 0.642285 and f(x2) = 0.001588\n",
            "Iteration-10, x2 = 0.641318 and f(x2) = 0.000192\n",
            "Iteration-11, x2 = 0.640835 and f(x2) = -0.000507\n",
            "Iteration-12, x2 = 0.641077 and f(x2) = -0.000158\n",
            "Iteration-13, x2 = 0.641198 and f(x2) = 0.000017\n",
            "Iteration-14, x2 = 0.641137 and f(x2) = -0.000070\n",
            "Iteration-15, x2 = 0.641167 and f(x2) = -0.000027\n",
            "Iteration-16, x2 = 0.641182 and f(x2) = -0.000005\n",
            "\n",
            "Required Root is : 0.64118240\n"
          ]
        }
      ]
    }
  ]
}